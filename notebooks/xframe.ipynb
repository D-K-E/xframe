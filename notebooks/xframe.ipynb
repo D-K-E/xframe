{
 "cells": [
  {
   "cell_type": "markdown",
   "metadata": {},
   "source": [
    "![xframe](images/xframe.png)"
   ]
  },
  {
   "cell_type": "markdown",
   "metadata": {},
   "source": [
    "<center> <h1>xframe is a dataframe for C++, based on xtensor and xtl</h1> </center>"
   ]
  },
  {
   "cell_type": "code",
   "execution_count": 1,
   "metadata": {},
   "outputs": [],
   "source": [
    "#include <string>\n",
    "#include <iostream>\n",
    "\n",
    "#include \"xtl/xbasic_fixed_string.hpp\"\n",
    "\n",
    "#include \"xtensor/xio.hpp\"\n",
    "#include \"xtensor/xrandom.hpp\"\n",
    "#include \"xtensor/xmath.hpp\"\n",
    "\n",
    "#include \"xframe/xio.hpp\"\n",
    "#include \"xframe/xvariable.hpp\"\n",
    "#include \"xframe/xvariable_view.hpp\"\n",
    "#include \"xframe/xvariable_masked_view.hpp\"\n",
    "#include \"xframe/xio.hpp\""
   ]
  },
  {
   "cell_type": "code",
   "execution_count": 2,
   "metadata": {},
   "outputs": [],
   "source": [
    "using fstring = xtl::xfixed_string<55>;\n",
    "\n",
    "using data_type = xt::xoptional_assembly<xt::xarray<double>, xt::xarray<bool>>;\n",
    "using coordinate_type = xf::xcoordinate<fstring, data_type::size_type>;\n",
    "\n",
    "using variable_type = xf::xvariable<coordinate_type, data_type>;"
   ]
  },
  {
   "cell_type": "markdown",
   "metadata": {},
   "source": [
    "# Variable with 2D Data: Apparent Temperature"
   ]
  },
  {
   "cell_type": "markdown",
   "metadata": {},
   "source": [
    "## Dry temperature variable"
   ]
  },
  {
   "cell_type": "code",
   "execution_count": 3,
   "metadata": {},
   "outputs": [],
   "source": [
    "data_type dry_temperature_data = xt::eval(xt::random::rand({6, 3}, 15., 25.));\n",
    "dry_temperature_data(0, 0).has_value() = false;\n",
    "dry_temperature_data(2, 1).has_value() = false;"
   ]
  },
  {
   "cell_type": "code",
   "execution_count": 4,
   "metadata": {},
   "outputs": [
    {
     "data": {
      "text/html": [
       "<table style='border-style:solid;border-width:1px;'><tbody><tr><td style='font-family:monospace;' title='(0, 0)'><pre>    N/A</pre></td><td style='font-family:monospace;' title='(0, 1)'><pre>23.3501</pre></td><td style='font-family:monospace;' title='(0, 2)'><pre>24.6887</pre></td></tr><tr><td style='font-family:monospace;' title='(1, 0)'><pre>17.2103</pre></td><td style='font-family:monospace;' title='(1, 1)'><pre>18.0817</pre></td><td style='font-family:monospace;' title='(1, 2)'><pre>20.4722</pre></td></tr><tr><td style='font-family:monospace;' title='(2, 0)'><pre>16.8838</pre></td><td style='font-family:monospace;' title='(2, 1)'><pre>    N/A</pre></td><td style='font-family:monospace;' title='(2, 2)'><pre>24.9646</pre></td></tr><tr><td style='font-family:monospace;' title='(3, 0)'><pre>24.6769</pre></td><td style='font-family:monospace;' title='(3, 1)'><pre>22.2584</pre></td><td style='font-family:monospace;' title='(3, 2)'><pre>24.8111</pre></td></tr><tr><td style='font-family:monospace;' title='(4, 0)'><pre>16.0986</pre></td><td style='font-family:monospace;' title='(4, 1)'><pre>22.9811</pre></td><td style='font-family:monospace;' title='(4, 2)'><pre>17.9703</pre></td></tr><tr><td style='font-family:monospace;' title='(5, 0)'><pre>15.0478</pre></td><td style='font-family:monospace;' title='(5, 1)'><pre>16.1246</pre></td><td style='font-family:monospace;' title='(5, 2)'><pre>21.3976</pre></td></tr></tbody></table>"
      ]
     },
     "execution_count": 4,
     "metadata": {},
     "output_type": "execute_result"
    }
   ],
   "source": [
    "dry_temperature_data"
   ]
  },
  {
   "cell_type": "code",
   "execution_count": 5,
   "metadata": {},
   "outputs": [],
   "source": [
    "auto time_axis = xf::axis({\"2018-01-01\", \"2018-01-02\", \"2018-01-03\", \"2018-01-04\", \"2018-01-05\", \"2018-01-06\"});"
   ]
  },
  {
   "cell_type": "code",
   "execution_count": 6,
   "metadata": {},
   "outputs": [],
   "source": [
    "auto dry_temperature = variable_type(\n",
    "    dry_temperature_data,\n",
    "    {\n",
    "        {\"date\", time_axis},\n",
    "        {\"city\", xf::axis({\"London\", \"Paris\", \"Brussels\"})}\n",
    "    }\n",
    ");"
   ]
  },
  {
   "cell_type": "code",
   "execution_count": 7,
   "metadata": {},
   "outputs": [
    {
     "data": {
      "text/html": [
       "<table style='border-style:solid;border-width:1px;'><thead><th></th><th title='city'>London</th><th title='city'>Paris</th><th title='city'>Brussels</th></thead><tbody><tr><th style='border-right-style:solid;border-right-width:1px;' title='date'>2018-01-01</th><td style='font-family:monospace;' title='(date: 2018-01-01, city: London)'><pre>    N/A</pre></td><td style='font-family:monospace;' title='(date: 2018-01-01, city: Paris)'><pre>23.3501</pre></td><td style='font-family:monospace;' title='(date: 2018-01-01, city: Brussels)'><pre>24.6887</pre></td></tr><tr><th style='border-right-style:solid;border-right-width:1px;' title='date'>2018-01-02</th><td style='font-family:monospace;' title='(date: 2018-01-02, city: London)'><pre>17.2103</pre></td><td style='font-family:monospace;' title='(date: 2018-01-02, city: Paris)'><pre>18.0817</pre></td><td style='font-family:monospace;' title='(date: 2018-01-02, city: Brussels)'><pre>20.4722</pre></td></tr><tr><th style='border-right-style:solid;border-right-width:1px;' title='date'>2018-01-03</th><td style='font-family:monospace;' title='(date: 2018-01-03, city: London)'><pre>16.8838</pre></td><td style='font-family:monospace;' title='(date: 2018-01-03, city: Paris)'><pre>    N/A</pre></td><td style='font-family:monospace;' title='(date: 2018-01-03, city: Brussels)'><pre>24.9646</pre></td></tr><tr><th style='border-right-style:solid;border-right-width:1px;' title='date'>2018-01-04</th><td style='font-family:monospace;' title='(date: 2018-01-04, city: London)'><pre>24.6769</pre></td><td style='font-family:monospace;' title='(date: 2018-01-04, city: Paris)'><pre>22.2584</pre></td><td style='font-family:monospace;' title='(date: 2018-01-04, city: Brussels)'><pre>24.8111</pre></td></tr><tr><th style='border-right-style:solid;border-right-width:1px;' title='date'>2018-01-05</th><td style='font-family:monospace;' title='(date: 2018-01-05, city: London)'><pre>16.0986</pre></td><td style='font-family:monospace;' title='(date: 2018-01-05, city: Paris)'><pre>22.9811</pre></td><td style='font-family:monospace;' title='(date: 2018-01-05, city: Brussels)'><pre>17.9703</pre></td></tr><tr><th style='border-right-style:solid;border-right-width:1px;' title='date'>2018-01-06</th><td style='font-family:monospace;' title='(date: 2018-01-06, city: London)'><pre>15.0478</pre></td><td style='font-family:monospace;' title='(date: 2018-01-06, city: Paris)'><pre>16.1246</pre></td><td style='font-family:monospace;' title='(date: 2018-01-06, city: Brussels)'><pre>21.3976</pre></td></tr></tbody></table>"
      ]
     },
     "execution_count": 7,
     "metadata": {},
     "output_type": "execute_result"
    }
   ],
   "source": [
    "dry_temperature"
   ]
  },
  {
   "cell_type": "code",
   "execution_count": 8,
   "metadata": {},
   "outputs": [
    {
     "data": {
      "text/plain": [
       "24.6769"
      ]
     },
     "execution_count": 8,
     "metadata": {},
     "output_type": "execute_result"
    }
   ],
   "source": [
    "dry_temperature.select({{\"city\", \"London\"}, {\"date\", \"2018-01-04\"}})"
   ]
  },
  {
   "cell_type": "code",
   "execution_count": 9,
   "metadata": {},
   "outputs": [
    {
     "data": {
      "text/plain": [
       "24.9646"
      ]
     },
     "execution_count": 9,
     "metadata": {},
     "output_type": "execute_result"
    }
   ],
   "source": [
    "dry_temperature.locate(\"2018-01-03\", \"Brussels\")"
   ]
  },
  {
   "cell_type": "code",
   "execution_count": 10,
   "metadata": {},
   "outputs": [
    {
     "data": {
      "text/plain": [
       "N/A"
      ]
     },
     "execution_count": 10,
     "metadata": {},
     "output_type": "execute_result"
    }
   ],
   "source": [
    "dry_temperature.locate(\"2018-01-03\", \"Paris\")"
   ]
  },
  {
   "cell_type": "markdown",
   "metadata": {},
   "source": [
    "## Relative humidity variable"
   ]
  },
  {
   "cell_type": "code",
   "execution_count": 11,
   "metadata": {},
   "outputs": [
    {
     "data": {
      "text/html": [
       "<table style='border-style:solid;border-width:1px;'><tbody><tr><th title='city'>Paris</th><td style='font-family:monospace;' title='city: Paris'><pre>67.5686</pre></td></tr><tr><th title='city'>London</th><td style='font-family:monospace;' title='city: London'><pre>60.0733</pre></td></tr><tr><th title='city'>Brussels</th><td style='font-family:monospace;' title='city: Brussels'><pre>65.9586</pre></td></tr></tbody></table>"
      ]
     },
     "execution_count": 11,
     "metadata": {},
     "output_type": "execute_result"
    }
   ],
   "source": [
    "data_type relative_humidity_data = xt::eval(xt::random::rand({3}, 50.0, 70.0));\n",
    "\n",
    "auto relative_humidity = variable_type(\n",
    "    relative_humidity_data,\n",
    "    {\n",
    "        {\"city\", xf::axis({\"Paris\", \"London\", \"Brussels\"})}\n",
    "    }\n",
    ");\n",
    "\n",
    "relative_humidity"
   ]
  },
  {
   "cell_type": "markdown",
   "metadata": {},
   "source": [
    "## Compute water vapour pressure using Broadcasting"
   ]
  },
  {
   "cell_type": "code",
   "execution_count": 12,
   "metadata": {},
   "outputs": [
    {
     "data": {
      "text/html": [
       "<table style='border-style:solid;border-width:1px;'><thead><th></th><th title='city'>London</th><th title='city'>Paris</th><th title='city'>Brussels</th></thead><tbody><tr><th style='border-right-style:solid;border-right-width:1px;' title='date'>2018-01-01</th><td style='font-family:monospace;' title='(date: 2018-01-01, city: London)'><pre>    N/A</pre></td><td style='font-family:monospace;' title='(date: 2018-01-01, city: Paris)'><pre>23.3501</pre></td><td style='font-family:monospace;' title='(date: 2018-01-01, city: Brussels)'><pre>24.6887</pre></td></tr><tr><th style='border-right-style:solid;border-right-width:1px;' title='date'>2018-01-02</th><td style='font-family:monospace;' title='(date: 2018-01-02, city: London)'><pre>17.2103</pre></td><td style='font-family:monospace;' title='(date: 2018-01-02, city: Paris)'><pre>18.0817</pre></td><td style='font-family:monospace;' title='(date: 2018-01-02, city: Brussels)'><pre>20.4722</pre></td></tr><tr><th style='border-right-style:solid;border-right-width:1px;' title='date'>2018-01-03</th><td style='font-family:monospace;' title='(date: 2018-01-03, city: London)'><pre>16.8838</pre></td><td style='font-family:monospace;' title='(date: 2018-01-03, city: Paris)'><pre>    N/A</pre></td><td style='font-family:monospace;' title='(date: 2018-01-03, city: Brussels)'><pre>24.9646</pre></td></tr><tr><th style='border-right-style:solid;border-right-width:1px;' title='date'>2018-01-04</th><td style='font-family:monospace;' title='(date: 2018-01-04, city: London)'><pre>24.6769</pre></td><td style='font-family:monospace;' title='(date: 2018-01-04, city: Paris)'><pre>22.2584</pre></td><td style='font-family:monospace;' title='(date: 2018-01-04, city: Brussels)'><pre>24.8111</pre></td></tr><tr><th style='border-right-style:solid;border-right-width:1px;' title='date'>2018-01-05</th><td style='font-family:monospace;' title='(date: 2018-01-05, city: London)'><pre>16.0986</pre></td><td style='font-family:monospace;' title='(date: 2018-01-05, city: Paris)'><pre>22.9811</pre></td><td style='font-family:monospace;' title='(date: 2018-01-05, city: Brussels)'><pre>17.9703</pre></td></tr><tr><th style='border-right-style:solid;border-right-width:1px;' title='date'>2018-01-06</th><td style='font-family:monospace;' title='(date: 2018-01-06, city: London)'><pre>15.0478</pre></td><td style='font-family:monospace;' title='(date: 2018-01-06, city: Paris)'><pre>16.1246</pre></td><td style='font-family:monospace;' title='(date: 2018-01-06, city: Brussels)'><pre>21.3976</pre></td></tr></tbody></table>"
      ]
     },
     "execution_count": 12,
     "metadata": {},
     "output_type": "execute_result"
    }
   ],
   "source": [
    "dry_temperature"
   ]
  },
  {
   "cell_type": "code",
   "execution_count": 13,
   "metadata": {},
   "outputs": [],
   "source": [
    "auto water_vapour_pressure = 0.01 * relative_humidity * 6.1 * xt::exp((17.27 * dry_temperature) / (237.7 + dry_temperature));"
   ]
  },
  {
   "cell_type": "code",
   "execution_count": 14,
   "metadata": {},
   "outputs": [
    {
     "data": {
      "text/html": [
       "<table style='border-style:solid;border-width:1px;'><thead><th></th><th title='city'>Paris</th><th title='city'>London</th><th title='city'>Brussels</th></thead><tbody><tr><th style='border-right-style:solid;border-right-width:1px;' title='date'>2018-01-01</th><td style='font-family:monospace;' title='(date: 2018-01-01, city: Paris)'><pre>    N/A</pre></td><td style='font-family:monospace;' title='(date: 2018-01-01, city: London)'><pre>17.1746</pre></td><td style='font-family:monospace;' title='(date: 2018-01-01, city: Brussels)'><pre>20.4322</pre></td></tr><tr><th style='border-right-style:solid;border-right-width:1px;' title='date'>2018-01-02</th><td style='font-family:monospace;' title='(date: 2018-01-02, city: Paris)'><pre>13.2269</pre></td><td style='font-family:monospace;' title='(date: 2018-01-02, city: London)'><pre>12.4228</pre></td><td style='font-family:monospace;' title='(date: 2018-01-02, city: Brussels)'><pre>15.8251</pre></td></tr><tr><th style='border-right-style:solid;border-right-width:1px;' title='date'>2018-01-03</th><td style='font-family:monospace;' title='(date: 2018-01-03, city: Paris)'><pre>12.9565</pre></td><td style='font-family:monospace;' title='(date: 2018-01-03, city: London)'><pre>    N/A</pre></td><td style='font-family:monospace;' title='(date: 2018-01-03, city: Brussels)'><pre>20.7708</pre></td></tr><tr><th style='border-right-style:solid;border-right-width:1px;' title='date'>2018-01-04</th><td style='font-family:monospace;' title='(date: 2018-01-04, city: Paris)'><pre>20.9164</pre></td><td style='font-family:monospace;' title='(date: 2018-01-04, city: London)'><pre> 16.077</pre></td><td style='font-family:monospace;' title='(date: 2018-01-04, city: Brussels)'><pre>20.5819</pre></td></tr><tr><th style='border-right-style:solid;border-right-width:1px;' title='date'>2018-01-05</th><td style='font-family:monospace;' title='(date: 2018-01-05, city: Paris)'><pre> 12.326</pre></td><td style='font-family:monospace;' title='(date: 2018-01-05, city: London)'><pre>16.7965</pre></td><td style='font-family:monospace;' title='(date: 2018-01-05, city: Brussels)'><pre>13.5448</pre></td></tr><tr><th style='border-right-style:solid;border-right-width:1px;' title='date'>2018-01-06</th><td style='font-family:monospace;' title='(date: 2018-01-06, city: Paris)'><pre>11.5244</pre></td><td style='font-family:monospace;' title='(date: 2018-01-06, city: London)'><pre>10.9769</pre></td><td style='font-family:monospace;' title='(date: 2018-01-06, city: Brussels)'><pre>16.7499</pre></td></tr></tbody></table>"
      ]
     },
     "execution_count": 14,
     "metadata": {},
     "output_type": "execute_result"
    }
   ],
   "source": [
    "water_vapour_pressure"
   ]
  },
  {
   "cell_type": "markdown",
   "metadata": {},
   "source": [
    "## Wind speed"
   ]
  },
  {
   "cell_type": "code",
   "execution_count": 15,
   "metadata": {},
   "outputs": [
    {
     "data": {
      "text/html": [
       "<table style='border-style:solid;border-width:1px;'><thead><th></th><th title='city'>Paris</th><th title='city'>Brussels</th><th title='city'>London</th></thead><tbody><tr><th style='border-right-style:solid;border-right-width:1px;' title='date'>2018-01-01</th><td style='font-family:monospace;' title='(date: 2018-01-01, city: Paris)'><pre>1.36129</pre></td><td style='font-family:monospace;' title='(date: 2018-01-01, city: Brussels)'><pre>1.21192</pre></td><td style='font-family:monospace;' title='(date: 2018-01-01, city: London)'><pre>1.68136</pre></td></tr><tr><th style='border-right-style:solid;border-right-width:1px;' title='date'>2018-01-02</th><td style='font-family:monospace;' title='(date: 2018-01-02, city: Paris)'><pre>1.39874</pre></td><td style='font-family:monospace;' title='(date: 2018-01-02, city: Brussels)'><pre>1.74065</pre></td><td style='font-family:monospace;' title='(date: 2018-01-02, city: London)'><pre>1.47476</pre></td></tr><tr><th style='border-right-style:solid;border-right-width:1px;' title='date'>2018-01-03</th><td style='font-family:monospace;' title='(date: 2018-01-03, city: Paris)'><pre>    N/A</pre></td><td style='font-family:monospace;' title='(date: 2018-01-03, city: Brussels)'><pre>1.17387</pre></td><td style='font-family:monospace;' title='(date: 2018-01-03, city: London)'><pre>1.30191</pre></td></tr><tr><th style='border-right-style:solid;border-right-width:1px;' title='date'>2018-01-04</th><td style='font-family:monospace;' title='(date: 2018-01-04, city: Paris)'><pre>1.79728</pre></td><td style='font-family:monospace;' title='(date: 2018-01-04, city: Brussels)'><pre>1.31655</pre></td><td style='font-family:monospace;' title='(date: 2018-01-04, city: London)'><pre>1.87243</pre></td></tr><tr><th style='border-right-style:solid;border-right-width:1px;' title='date'>2018-01-05</th><td style='font-family:monospace;' title='(date: 2018-01-05, city: Paris)'><pre>1.14911</pre></td><td style='font-family:monospace;' title='(date: 2018-01-05, city: Brussels)'><pre>1.99407</pre></td><td style='font-family:monospace;' title='(date: 2018-01-05, city: London)'><pre> 1.8219</pre></td></tr><tr><th style='border-right-style:solid;border-right-width:1px;' title='date'>2018-01-06</th><td style='font-family:monospace;' title='(date: 2018-01-06, city: Paris)'><pre>1.12518</pre></td><td style='font-family:monospace;' title='(date: 2018-01-06, city: Brussels)'><pre>1.76375</pre></td><td style='font-family:monospace;' title='(date: 2018-01-06, city: London)'><pre>1.49059</pre></td></tr></tbody></table>"
      ]
     },
     "execution_count": 15,
     "metadata": {},
     "output_type": "execute_result"
    }
   ],
   "source": [
    "data_type wind_speed_data = xt::eval(xt::random::rand({6, 3}, 1., 2.));\n",
    "wind_speed_data(2, 0).has_value() = false;\n",
    "\n",
    "auto wind_speed = variable_type(\n",
    "    wind_speed_data, \n",
    "    {\n",
    "        {\"date\", time_axis},\n",
    "        {\"city\", xf::axis({\"Paris\", \"Brussels\", \"London\"})}\n",
    "    }\n",
    ");\n",
    "\n",
    "wind_speed"
   ]
  },
  {
   "cell_type": "markdown",
   "metadata": {},
   "source": [
    "## And compute apparent temperature"
   ]
  },
  {
   "cell_type": "code",
   "execution_count": 16,
   "metadata": {},
   "outputs": [
    {
     "data": {
      "text/html": [
       "<table style='border-style:solid;border-width:1px;'><thead><th></th><th title='city'>London</th><th title='city'>Paris</th><th title='city'>Brussels</th></thead><tbody><tr><th style='border-right-style:solid;border-right-width:1px;' title='date'>2018-01-01</th><td style='font-family:monospace;' title='(date: 2018-01-01, city: London)'><pre>    N/A</pre></td><td style='font-family:monospace;' title='(date: 2018-01-01, city: Paris)'><pre>23.3501</pre></td><td style='font-family:monospace;' title='(date: 2018-01-01, city: Brussels)'><pre>24.6887</pre></td></tr><tr><th style='border-right-style:solid;border-right-width:1px;' title='date'>2018-01-02</th><td style='font-family:monospace;' title='(date: 2018-01-02, city: London)'><pre>17.2103</pre></td><td style='font-family:monospace;' title='(date: 2018-01-02, city: Paris)'><pre>18.0817</pre></td><td style='font-family:monospace;' title='(date: 2018-01-02, city: Brussels)'><pre>20.4722</pre></td></tr><tr><th style='border-right-style:solid;border-right-width:1px;' title='date'>2018-01-03</th><td style='font-family:monospace;' title='(date: 2018-01-03, city: London)'><pre>16.8838</pre></td><td style='font-family:monospace;' title='(date: 2018-01-03, city: Paris)'><pre>    N/A</pre></td><td style='font-family:monospace;' title='(date: 2018-01-03, city: Brussels)'><pre>24.9646</pre></td></tr><tr><th style='border-right-style:solid;border-right-width:1px;' title='date'>2018-01-04</th><td style='font-family:monospace;' title='(date: 2018-01-04, city: London)'><pre>24.6769</pre></td><td style='font-family:monospace;' title='(date: 2018-01-04, city: Paris)'><pre>22.2584</pre></td><td style='font-family:monospace;' title='(date: 2018-01-04, city: Brussels)'><pre>24.8111</pre></td></tr><tr><th style='border-right-style:solid;border-right-width:1px;' title='date'>2018-01-05</th><td style='font-family:monospace;' title='(date: 2018-01-05, city: London)'><pre>16.0986</pre></td><td style='font-family:monospace;' title='(date: 2018-01-05, city: Paris)'><pre>22.9811</pre></td><td style='font-family:monospace;' title='(date: 2018-01-05, city: Brussels)'><pre>17.9703</pre></td></tr><tr><th style='border-right-style:solid;border-right-width:1px;' title='date'>2018-01-06</th><td style='font-family:monospace;' title='(date: 2018-01-06, city: London)'><pre>15.0478</pre></td><td style='font-family:monospace;' title='(date: 2018-01-06, city: Paris)'><pre>16.1246</pre></td><td style='font-family:monospace;' title='(date: 2018-01-06, city: Brussels)'><pre>21.3976</pre></td></tr></tbody></table>"
      ]
     },
     "execution_count": 16,
     "metadata": {},
     "output_type": "execute_result"
    }
   ],
   "source": [
    "dry_temperature"
   ]
  },
  {
   "cell_type": "code",
   "execution_count": 17,
   "metadata": {},
   "outputs": [],
   "source": [
    "auto apparent_temperature = dry_temperature + 0.348 * water_vapour_pressure - 0.7 * wind_speed + 0.7/(wind_speed + 10) - 4.25;"
   ]
  },
  {
   "cell_type": "code",
   "execution_count": 18,
   "metadata": {},
   "outputs": [
    {
     "data": {
      "text/html": [
       "<table style='border-style:solid;border-width:1px;'><thead><th></th><th title='city'>Paris</th><th title='city'>Brussels</th><th title='city'>Brussels</th></thead><tbody><tr><th style='border-right-style:solid;border-right-width:1px;' title='date'>2018-01-01</th><td style='font-family:monospace;' title='(date: 2018-01-01, city: Paris)'><pre>    N/A</pre></td><td style='font-family:monospace;' title='(date: 2018-01-01, city: Brussels)'><pre>24.2909</pre></td><td style='font-family:monospace;' title='(date: 2018-01-01, city: Brussels)'><pre>26.4321</pre></td></tr><tr><th style='border-right-style:solid;border-right-width:1px;' title='date'>2018-01-02</th><td style='font-family:monospace;' title='(date: 2018-01-02, city: Paris)'><pre>16.6456</pre></td><td style='font-family:monospace;' title='(date: 2018-01-02, city: Brussels)'><pre> 16.996</pre></td><td style='font-family:monospace;' title='(date: 2018-01-02, city: Brussels)'><pre> 20.758</pre></td></tr><tr><th style='border-right-style:solid;border-right-width:1px;' title='date'>2018-01-03</th><td style='font-family:monospace;' title='(date: 2018-01-03, city: Paris)'><pre>    N/A</pre></td><td style='font-family:monospace;' title='(date: 2018-01-03, city: Brussels)'><pre>    N/A</pre></td><td style='font-family:monospace;' title='(date: 2018-01-03, city: Brussels)'><pre>27.0935</pre></td></tr><tr><th style='border-right-style:solid;border-right-width:1px;' title='date'>2018-01-04</th><td style='font-family:monospace;' title='(date: 2018-01-04, city: Paris)'><pre>26.5071</pre></td><td style='font-family:monospace;' title='(date: 2018-01-04, city: Brussels)'><pre>22.7435</pre></td><td style='font-family:monospace;' title='(date: 2018-01-04, city: Brussels)'><pre>26.4718</pre></td></tr><tr><th style='border-right-style:solid;border-right-width:1px;' title='date'>2018-01-05</th><td style='font-family:monospace;' title='(date: 2018-01-05, city: Paris)'><pre>15.3965</pre></td><td style='font-family:monospace;' title='(date: 2018-01-05, city: Brussels)'><pre>23.2387</pre></td><td style='font-family:monospace;' title='(date: 2018-01-05, city: Brussels)'><pre>17.2178</pre></td></tr><tr><th style='border-right-style:solid;border-right-width:1px;' title='date'>2018-01-06</th><td style='font-family:monospace;' title='(date: 2018-01-06, city: Paris)'><pre>14.0836</pre></td><td style='font-family:monospace;' title='(date: 2018-01-06, city: Brussels)'><pre>14.5195</pre></td><td style='font-family:monospace;' title='(date: 2018-01-06, city: Brussels)'><pre>21.9941</pre></td></tr></tbody></table>"
      ]
     },
     "execution_count": 18,
     "metadata": {},
     "output_type": "execute_result"
    }
   ],
   "source": [
    "apparent_temperature"
   ]
  },
  {
   "cell_type": "markdown",
   "metadata": {},
   "source": [
    "## Variable with 3D data"
   ]
  },
  {
   "cell_type": "code",
   "execution_count": 19,
   "metadata": {},
   "outputs": [],
   "source": [
    "data_type pressure_data = {{{ 1.,  2., 3. },\n",
    "                            { 4.,  5., 6. },\n",
    "                            { 7.,  8., 9. }},\n",
    "                           {{ 1.3, 1.5, 1.},\n",
    "                            { 2., 2.3, 2.4},\n",
    "                            { 3.1, 3.8, 3.}},\n",
    "                           {{ 8.5, 8.2, 8.6},\n",
    "                            { 7.5, 8.6, 9.7},\n",
    "                            { 4.5, 4.4, 4.3}}};"
   ]
  },
  {
   "cell_type": "code",
   "execution_count": 20,
   "metadata": {},
   "outputs": [],
   "source": [
    "auto pressure = variable_type(\n",
    "    pressure_data,\n",
    "    {\n",
    "        {\"x\", xf::axis(3)},\n",
    "        {\"y\", xf::axis(3, 6, 1)},\n",
    "        {\"z\", xf::axis(3)},\n",
    "    }\n",
    ");"
   ]
  },
  {
   "cell_type": "code",
   "execution_count": 21,
   "metadata": {},
   "outputs": [
    {
     "data": {
      "text/html": [
       "<table style='border-style:solid;border-width:1px;'><thead><th></th><th></th><th title='z'>0</th><th title='z'>1</th><th title='z'>2</th></thead><tbody><tr><th title='x' scope='rowgroup' rowspan='3'>0</th><th style='border-right-style:solid;border-right-width:1px;' title='y'>3</th><td style='font-family:monospace;' title='(x: 0, y: 3, z: 0)'><pre>  1</pre></td><td style='font-family:monospace;' title='(x: 0, y: 3, z: 1)'><pre>  2</pre></td><td style='font-family:monospace;' title='(x: 0, y: 3, z: 2)'><pre>  3</pre></td></tr><tr><th style='border-right-style:solid;border-right-width:1px;' title='y'>4</th><td style='font-family:monospace;' title='(x: 0, y: 4, z: 0)'><pre>  4</pre></td><td style='font-family:monospace;' title='(x: 0, y: 4, z: 1)'><pre>  5</pre></td><td style='font-family:monospace;' title='(x: 0, y: 4, z: 2)'><pre>  6</pre></td></tr><tr><th style='border-right-style:solid;border-right-width:1px;' title='y'>5</th><td style='font-family:monospace;' title='(x: 0, y: 5, z: 0)'><pre>  7</pre></td><td style='font-family:monospace;' title='(x: 0, y: 5, z: 1)'><pre>  8</pre></td><td style='font-family:monospace;' title='(x: 0, y: 5, z: 2)'><pre>  9</pre></td></tr><tr><th title='x' scope='rowgroup' rowspan='3'>1</th><th style='border-right-style:solid;border-right-width:1px;' title='y'>3</th><td style='font-family:monospace;' title='(x: 1, y: 3, z: 0)'><pre>1.3</pre></td><td style='font-family:monospace;' title='(x: 1, y: 3, z: 1)'><pre>1.5</pre></td><td style='font-family:monospace;' title='(x: 1, y: 3, z: 2)'><pre>  1</pre></td></tr><tr><th style='border-right-style:solid;border-right-width:1px;' title='y'>4</th><td style='font-family:monospace;' title='(x: 1, y: 4, z: 0)'><pre>  2</pre></td><td style='font-family:monospace;' title='(x: 1, y: 4, z: 1)'><pre>2.3</pre></td><td style='font-family:monospace;' title='(x: 1, y: 4, z: 2)'><pre>2.4</pre></td></tr><tr><th style='border-right-style:solid;border-right-width:1px;' title='y'>5</th><td style='font-family:monospace;' title='(x: 1, y: 5, z: 0)'><pre>3.1</pre></td><td style='font-family:monospace;' title='(x: 1, y: 5, z: 1)'><pre>3.8</pre></td><td style='font-family:monospace;' title='(x: 1, y: 5, z: 2)'><pre>  3</pre></td></tr><tr><th title='x' scope='rowgroup' rowspan='3'>2</th><th style='border-right-style:solid;border-right-width:1px;' title='y'>3</th><td style='font-family:monospace;' title='(x: 2, y: 3, z: 0)'><pre>8.5</pre></td><td style='font-family:monospace;' title='(x: 2, y: 3, z: 1)'><pre>8.2</pre></td><td style='font-family:monospace;' title='(x: 2, y: 3, z: 2)'><pre>8.6</pre></td></tr><tr><th style='border-right-style:solid;border-right-width:1px;' title='y'>4</th><td style='font-family:monospace;' title='(x: 2, y: 4, z: 0)'><pre>7.5</pre></td><td style='font-family:monospace;' title='(x: 2, y: 4, z: 1)'><pre>8.6</pre></td><td style='font-family:monospace;' title='(x: 2, y: 4, z: 2)'><pre>9.7</pre></td></tr><tr><th style='border-right-style:solid;border-right-width:1px;' title='y'>5</th><td style='font-family:monospace;' title='(x: 2, y: 5, z: 0)'><pre>4.5</pre></td><td style='font-family:monospace;' title='(x: 2, y: 5, z: 1)'><pre>4.4</pre></td><td style='font-family:monospace;' title='(x: 2, y: 5, z: 2)'><pre>4.3</pre></td></tr></tbody></table>"
      ]
     },
     "execution_count": 21,
     "metadata": {},
     "output_type": "execute_result"
    }
   ],
   "source": [
    "pressure"
   ]
  },
  {
   "cell_type": "code",
   "execution_count": 22,
   "metadata": {},
   "outputs": [
    {
     "data": {
      "text/plain": [
       "2.3"
      ]
     },
     "execution_count": 22,
     "metadata": {},
     "output_type": "execute_result"
    }
   ],
   "source": [
    "pressure.select({{\"x\", 1}, {\"y\", 4}, {\"z\", 1}})"
   ]
  },
  {
   "cell_type": "code",
   "execution_count": 23,
   "metadata": {},
   "outputs": [
    {
     "data": {
      "text/plain": [
       "9"
      ]
     },
     "execution_count": 23,
     "metadata": {},
     "output_type": "execute_result"
    }
   ],
   "source": [
    "pressure.locate(0, 5, 2)"
   ]
  },
  {
   "cell_type": "markdown",
   "metadata": {},
   "source": [
    "## Masking"
   ]
  },
  {
   "cell_type": "code",
   "execution_count": 24,
   "metadata": {},
   "outputs": [],
   "source": [
    "auto masked_pressure = xf::where(\n",
    "    pressure,\n",
    "    not_equal(pressure.axis<int>(\"x\"), 2) && pressure.axis<int>(\"z\") < 2\n",
    ");"
   ]
  },
  {
   "cell_type": "code",
   "execution_count": 25,
   "metadata": {},
   "outputs": [
    {
     "data": {
      "text/html": [
       "<table style='border-style:solid;border-width:1px;'><thead><th></th><th></th><th title='z'>0</th><th title='z'>1</th><th title='z'>2</th></thead><tbody><tr><th title='x' scope='rowgroup' rowspan='3'>0</th><th style='border-right-style:solid;border-right-width:1px;' title='y'>3</th><td style='font-family:monospace;' title='(x: 0, y: 3, z: 0)'><pre>  1</pre></td><td style='font-family:monospace;' title='(x: 0, y: 3, z: 1)'><pre>  2</pre></td><td style='font-family:monospace;' title='(x: 0, y: 3, z: 2)'><pre>N/A</pre></td></tr><tr><th style='border-right-style:solid;border-right-width:1px;' title='y'>4</th><td style='font-family:monospace;' title='(x: 0, y: 4, z: 0)'><pre>  4</pre></td><td style='font-family:monospace;' title='(x: 0, y: 4, z: 1)'><pre>  5</pre></td><td style='font-family:monospace;' title='(x: 0, y: 4, z: 2)'><pre>N/A</pre></td></tr><tr><th style='border-right-style:solid;border-right-width:1px;' title='y'>5</th><td style='font-family:monospace;' title='(x: 0, y: 5, z: 0)'><pre>  7</pre></td><td style='font-family:monospace;' title='(x: 0, y: 5, z: 1)'><pre>  8</pre></td><td style='font-family:monospace;' title='(x: 0, y: 5, z: 2)'><pre>N/A</pre></td></tr><tr><th title='x' scope='rowgroup' rowspan='3'>1</th><th style='border-right-style:solid;border-right-width:1px;' title='y'>3</th><td style='font-family:monospace;' title='(x: 1, y: 3, z: 0)'><pre>1.3</pre></td><td style='font-family:monospace;' title='(x: 1, y: 3, z: 1)'><pre>1.5</pre></td><td style='font-family:monospace;' title='(x: 1, y: 3, z: 2)'><pre>N/A</pre></td></tr><tr><th style='border-right-style:solid;border-right-width:1px;' title='y'>4</th><td style='font-family:monospace;' title='(x: 1, y: 4, z: 0)'><pre>  2</pre></td><td style='font-family:monospace;' title='(x: 1, y: 4, z: 1)'><pre>2.3</pre></td><td style='font-family:monospace;' title='(x: 1, y: 4, z: 2)'><pre>N/A</pre></td></tr><tr><th style='border-right-style:solid;border-right-width:1px;' title='y'>5</th><td style='font-family:monospace;' title='(x: 1, y: 5, z: 0)'><pre>3.1</pre></td><td style='font-family:monospace;' title='(x: 1, y: 5, z: 1)'><pre>3.8</pre></td><td style='font-family:monospace;' title='(x: 1, y: 5, z: 2)'><pre>N/A</pre></td></tr><tr><th title='x' scope='rowgroup' rowspan='3'>2</th><th style='border-right-style:solid;border-right-width:1px;' title='y'>3</th><td style='font-family:monospace;' title='(x: 2, y: 3, z: 0)'><pre>N/A</pre></td><td style='font-family:monospace;' title='(x: 2, y: 3, z: 1)'><pre>N/A</pre></td><td style='font-family:monospace;' title='(x: 2, y: 3, z: 2)'><pre>N/A</pre></td></tr><tr><th style='border-right-style:solid;border-right-width:1px;' title='y'>4</th><td style='font-family:monospace;' title='(x: 2, y: 4, z: 0)'><pre>N/A</pre></td><td style='font-family:monospace;' title='(x: 2, y: 4, z: 1)'><pre>N/A</pre></td><td style='font-family:monospace;' title='(x: 2, y: 4, z: 2)'><pre>N/A</pre></td></tr><tr><th style='border-right-style:solid;border-right-width:1px;' title='y'>5</th><td style='font-family:monospace;' title='(x: 2, y: 5, z: 0)'><pre>N/A</pre></td><td style='font-family:monospace;' title='(x: 2, y: 5, z: 1)'><pre>N/A</pre></td><td style='font-family:monospace;' title='(x: 2, y: 5, z: 2)'><pre>N/A</pre></td></tr></tbody></table>"
      ]
     },
     "execution_count": 25,
     "metadata": {},
     "output_type": "execute_result"
    }
   ],
   "source": [
    "masked_pressure"
   ]
  }
 ],
 "metadata": {
  "kernelspec": {
   "display_name": "C++14",
   "language": "C++14",
   "name": "xeus-cling-cpp14"
  },
  "language_info": {
   "codemirror_mode": "text/x-c++src",
   "file_extension": ".cpp",
   "mimetype": "text/x-c++src",
   "name": "c++",
   "version": "-std=c++14"
  }
 },
 "nbformat": 4,
 "nbformat_minor": 2
}
