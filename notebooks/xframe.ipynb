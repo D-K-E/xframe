{
 "cells": [
  {
   "cell_type": "markdown",
   "metadata": {},
   "source": [
    "![alt text](http://quantstack.net/assets/images/xframe.svg)"
   ]
  },
  {
   "cell_type": "markdown",
   "metadata": {},
   "source": [
    "<center> <h1>xframe is a dataframe for C++, based on xtensor and xtl</h1> </center>"
   ]
  },
  {
   "cell_type": "code",
   "execution_count": null,
   "metadata": {},
   "outputs": [],
   "source": [
    "#include <string>\n",
    "#include <iostream>\n",
    "\n",
    "#include \"xtl/xbasic_fixed_string.hpp\"\n",
    "\n",
    "#include \"xtensor/xio.hpp\"\n",
    "\n",
    "#include \"xframe/xvariable.hpp\""
   ]
  },
  {
   "cell_type": "code",
   "execution_count": null,
   "metadata": {},
   "outputs": [],
   "source": [
    "using fstring = xtl::xfixed_string<55>;\n",
    "\n",
    "using data_type = xt::xoptional_assembly<xt::xarray<double>, xt::xarray<bool>>;\n",
    "using coordinate_type = xf::xcoordinate<fstring, data_type::size_type>;\n",
    "\n",
    "using variable_type = xf::xvariable<coordinate_type, data_type>;\n",
    "using dimension_type = xf::xdimension<fstring, std::size_t>;\n",
    "using saxis_type = xf::xaxis<fstring, std::size_t>; \n",
    "using iaxis_type = xf::xaxis<int, std::size_t>;"
   ]
  },
  {
   "cell_type": "code",
   "execution_count": null,
   "metadata": {},
   "outputs": [],
   "source": [
    "fstring abscissa = \"abscissa\";\n",
    "fstring ordinate = \"ordinate\";"
   ]
  },
  {
   "cell_type": "code",
   "execution_count": null,
   "metadata": {},
   "outputs": [],
   "source": [
    "data_type data = {{ 1., 2., 3.},\n",
    "                  { 4., 5., 6.},\n",
    "                  { 7., 8., 9.}};\n",
    "data(0, 2).has_value() = false;\n",
    "data(1, 0).has_value() = false;"
   ]
  },
  {
   "cell_type": "code",
   "execution_count": null,
   "metadata": {},
   "outputs": [],
   "source": [
    "variable_type variable = variable_type(\n",
    "    data, \n",
    "    {\n",
    "        {abscissa, saxis_type({\"a\", \"c\", \"d\"})},\n",
    "        {ordinate, iaxis_type({1, 2, 4})}\n",
    "    }, \n",
    "    dimension_type({abscissa, ordinate})\n",
    ");"
   ]
  },
  {
   "cell_type": "code",
   "execution_count": null,
   "metadata": {},
   "outputs": [],
   "source": [
    "std::cout << variable.select({{\"abscissa\", \"a\"}, {\"ordinate\", 1}});"
   ]
  },
  {
   "cell_type": "code",
   "execution_count": null,
   "metadata": {
    "scrolled": true
   },
   "outputs": [],
   "source": [
    "std::cout << variable.select({{\"abscissa\", \"c\"}, {\"ordinate\", 2}});"
   ]
  },
  {
   "cell_type": "code",
   "execution_count": null,
   "metadata": {},
   "outputs": [],
   "source": [
    "std::cout << variable.locate(\"c\", 2);"
   ]
  },
  {
   "cell_type": "code",
   "execution_count": null,
   "metadata": {},
   "outputs": [],
   "source": [
    "std::cout << variable.data();"
   ]
  }
 ],
 "metadata": {
  "kernelspec": {
   "display_name": "C++14",
   "language": "C++14",
   "name": "xeus-cling-cpp14"
  },
  "language_info": {
   "codemirror_mode": "text/x-c++src",
   "file_extension": ".cpp",
   "mimetype": "text/x-c++src",
   "name": "c++",
   "version": "14"
  }
 },
 "nbformat": 4,
 "nbformat_minor": 2
}
